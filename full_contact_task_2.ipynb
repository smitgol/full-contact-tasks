{
  "nbformat": 4,
  "nbformat_minor": 0,
  "metadata": {
    "colab": {
      "name": "full_contact_task_2.ipynb",
      "provenance": [],
      "collapsed_sections": [],
      "mount_file_id": "15SSJBf700iLfmbdDQlEs35_TirrdCAIT",
      "authorship_tag": "ABX9TyNB+pr3YijnZ/kFYqQ7ZNWE",
      "include_colab_link": true
    },
    "kernelspec": {
      "display_name": "Python 3",
      "name": "python3"
    },
    "language_info": {
      "name": "python"
    }
  },
  "cells": [
    {
      "cell_type": "markdown",
      "metadata": {
        "id": "view-in-github",
        "colab_type": "text"
      },
      "source": [
        "<a href=\"https://colab.research.google.com/github/smitgol/full-contact-tasks/blob/main/full_contact_task_2.ipynb\" target=\"_parent\"><img src=\"https://colab.research.google.com/assets/colab-badge.svg\" alt=\"Open In Colab\"/></a>"
      ]
    },
    {
      "cell_type": "code",
      "metadata": {
        "id": "EZhl-AlgsJpV"
      },
      "source": [
        "import pandas as pd\n",
        "from pyspark.sql import SparkSession\n",
        "from pyspark.sql import types\n",
        "import pyspark.sql.functions as sf\n",
        "import matplotlib.pyplot as plt"
      ],
      "execution_count": null,
      "outputs": []
    },
    {
      "cell_type": "code",
      "metadata": {
        "id": "Z8wh4Ykntk-c"
      },
      "source": [
        "spark = SparkSession.builder.getOrCreate()"
      ],
      "execution_count": null,
      "outputs": []
    },
    {
      "cell_type": "code",
      "metadata": {
        "id": "r-CFIj83tmR1"
      },
      "source": [
        "pandas_df = pd.read_csv('police_pedestrian_stops_and_vehicle_stops.csv')\n",
        "df = spark.createDataFrame(pandas_df)"
      ],
      "execution_count": null,
      "outputs": []
    },
    {
      "cell_type": "code",
      "metadata": {
        "id": "kz1j66UV0Ft4"
      },
      "source": [
        "df.show()"
      ],
      "execution_count": null,
      "outputs": []
    },
    {
      "cell_type": "code",
      "metadata": {
        "id": "tPoDrzho84bu"
      },
      "source": [
        "most_eventfull_df = df.groupby('NEIGHBORHOOD_NAME').agg({\"PROBLEM\":\"count\"}).orderBy(\"count(PROBLEM)\", ascending=False)"
      ],
      "execution_count": null,
      "outputs": []
    },
    {
      "cell_type": "code",
      "metadata": {
        "id": "gWx_3eVEIYDm"
      },
      "source": [
        "most_eventfull_df.write.csv('most_eventfull_neighborhood.csv', header=True)"
      ],
      "execution_count": null,
      "outputs": []
    },
    {
      "cell_type": "code",
      "metadata": {
        "id": "oCzlCUSPfMLY",
        "colab": {
          "base_uri": "https://localhost:8080/"
        },
        "outputId": "d04df7eb-2206-4740-9afa-c91caa2ba796"
      },
      "source": [
        "df.groupby('NEIGHBORHOOD_NAME').agg({\"PROBLEM\":\"count\"}).orderBy(\"count(PROBLEM)\", ascending=False).head(10)"
      ],
      "execution_count": null,
      "outputs": [
        {
          "output_type": "execute_result",
          "data": {
            "text/plain": [
              "[Row(NEIGHBORHOOD_NAME='Five Points', count(PROBLEM)=50915),\n",
              " Row(NEIGHBORHOOD_NAME='Montbello', count(PROBLEM)=46849),\n",
              " Row(NEIGHBORHOOD_NAME='Stapleton', count(PROBLEM)=38157),\n",
              " Row(NEIGHBORHOOD_NAME='West Colfax', count(PROBLEM)=36818),\n",
              " Row(NEIGHBORHOOD_NAME='Globeville', count(PROBLEM)=34460),\n",
              " Row(NEIGHBORHOOD_NAME='East Colfax', count(PROBLEM)=31318),\n",
              " Row(NEIGHBORHOOD_NAME='Westwood', count(PROBLEM)=30682),\n",
              " Row(NEIGHBORHOOD_NAME='Baker', count(PROBLEM)=30577),\n",
              " Row(NEIGHBORHOOD_NAME='CBD', count(PROBLEM)=28997),\n",
              " Row(NEIGHBORHOOD_NAME='Barnum', count(PROBLEM)=27512)]"
            ]
          },
          "metadata": {},
          "execution_count": 7
        }
      ]
    },
    {
      "cell_type": "code",
      "metadata": {
        "id": "X6CKEywj4a7V"
      },
      "source": [
        "df = df.withColumn(\"TIME_PHONEPICKUP\", df.TIME_PHONEPICKUP.cast(types.DateType()))"
      ],
      "execution_count": null,
      "outputs": []
    },
    {
      "cell_type": "code",
      "metadata": {
        "id": "8QA87fn36uo2"
      },
      "source": [
        "group_by_df = df.groupby(sf.year('TIME_PHONEPICKUP')).agg({\"PROBLEM\":\"count\"})"
      ],
      "execution_count": null,
      "outputs": []
    },
    {
      "cell_type": "code",
      "metadata": {
        "id": "cnon9fZG8EVP",
        "colab": {
          "base_uri": "https://localhost:8080/",
          "height": 300
        },
        "outputId": "58a87af4-2c4d-4a50-e686-4168d2825323"
      },
      "source": [
        "pdf = (\n",
        "    group_by_df.select(\n",
        "        \"year(TIME_PHONEPICKUP)\",\n",
        "        \"count(PROBLEM)\",\n",
        "    )\n",
        "    .orderBy(\"year(TIME_PHONEPICKUP)\")\n",
        "    .toPandas()\n",
        ")\n",
        "\n",
        "pdf.plot.line(x=\"year(TIME_PHONEPICKUP)\", y=\"count(PROBLEM)\")"
      ],
      "execution_count": null,
      "outputs": [
        {
          "output_type": "execute_result",
          "data": {
            "text/plain": [
              "<matplotlib.axes._subplots.AxesSubplot at 0x7ff21f994bd0>"
            ]
          },
          "metadata": {},
          "execution_count": 10
        },
        {
          "output_type": "display_data",
          "data": {
            "image/png": "[encoded data removed]",
            "text/plain": [
              "<Figure size 432x288 with 1 Axes>"
            ]
          },
          "metadata": {
            "needs_background": "light"
          }
        }
      ]
    },
    {
      "cell_type": "code",
      "metadata": {
        "id": "uxbpNSwKPeQn",
        "colab": {
          "base_uri": "https://localhost:8080/",
          "height": 111
        },
        "outputId": "8bf9d4de-f0cd-463e-fda7-aba95aaee5e8"
      },
      "source": [
        "pie_chart = (df.groupby(\"PROBLEM\").agg({\"PROBLEM\":\"count\"}).select(\"PROBLEM\",\"count(PROBLEM)\").toPandas())\n",
        "pie_chart"
      ],
      "execution_count": null,
      "outputs": [
        {
          "output_type": "execute_result",
          "data": {
            "text/html": [
              "<div>\n",
              "<style scoped>\n",
              "    .dataframe tbody tr th:only-of-type {\n",
              "        vertical-align: middle;\n",
              "    }\n",
              "\n",
              "    .dataframe tbody tr th {\n",
              "        vertical-align: top;\n",
              "    }\n",
              "\n",
              "    .dataframe thead th {\n",
              "        text-align: right;\n",
              "    }\n",
              "</style>\n",
              "<table border=\"1\" class=\"dataframe\">\n",
              "  <thead>\n",
              "    <tr style=\"text-align: right;\">\n",
              "      <th></th>\n",
              "      <th>PROBLEM</th>\n",
              "      <th>count(PROBLEM)</th>\n",
              "    </tr>\n",
              "  </thead>\n",
              "  <tbody>\n",
              "    <tr>\n",
              "      <th>0</th>\n",
              "      <td>Vehicle Stop</td>\n",
              "      <td>731227</td>\n",
              "    </tr>\n",
              "    <tr>\n",
              "      <th>1</th>\n",
              "      <td>Subject Stop</td>\n",
              "      <td>252126</td>\n",
              "    </tr>\n",
              "  </tbody>\n",
              "</table>\n",
              "</div>"
            ],
            "text/plain": [
              "        PROBLEM  count(PROBLEM)\n",
              "0  Vehicle Stop          731227\n",
              "1  Subject Stop          252126"
            ]
          },
          "metadata": {},
          "execution_count": 11
        }
      ]
    },
    {
      "cell_type": "code",
      "metadata": {
        "id": "LXJbj5aRhO5H",
        "colab": {
          "base_uri": "https://localhost:8080/",
          "height": 265
        },
        "outputId": "09362c88-1adf-4a2e-fe1e-070f0a2d500b"
      },
      "source": [
        "pie_chart.value_counts().plot(kind=\"pie\", y=\"PROBLEM\")"
      ],
      "execution_count": null,
      "outputs": [
        {
          "output_type": "execute_result",
          "data": {
            "text/plain": [
              "<matplotlib.axes._subplots.AxesSubplot at 0x7ff21c0042d0>"
            ]
          },
          "metadata": {},
          "execution_count": 30
        },
        {
          "output_type": "display_data",
          "data": {
            "image/png": "[encoded data removed]",
            "text/plain": [
              "<Figure size 432x288 with 1 Axes>"
            ]
          },
          "metadata": {}
        }
      ]
    }
  ]
}